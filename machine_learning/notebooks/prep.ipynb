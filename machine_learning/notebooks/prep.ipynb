{
 "cells": [
  {
   "cell_type": "markdown",
   "id": "b0dc4537",
   "metadata": {},
   "source": [
    "## Data Balanced"
   ]
  },
  {
   "cell_type": "code",
   "execution_count": 1,
   "id": "fe1378c7",
   "metadata": {},
   "outputs": [
    {
     "name": "stderr",
     "output_type": "stream",
     "text": [
      "[nltk_data] Downloading package stopwords to\n",
      "[nltk_data]     C:\\Users\\Mirty\\AppData\\Roaming\\nltk_data...\n",
      "[nltk_data]   Package stopwords is already up-to-date!\n",
      "[nltk_data] Downloading package wordnet to\n",
      "[nltk_data]     C:\\Users\\Mirty\\AppData\\Roaming\\nltk_data...\n",
      "[nltk_data]   Package wordnet is already up-to-date!\n"
     ]
    },
    {
     "name": "stdout",
     "output_type": "stream",
     "text": [
      "Distribución original:\n",
      "label\n",
      "1    2392645\n",
      "0     352683\n",
      "Name: count, dtype: int64\n",
      "\n",
      "Distribución balanceada:\n",
      "label\n",
      "1    352683\n",
      "0    352683\n",
      "Name: count, dtype: int64\n",
      "\n",
      "Ejemplo de resumen limpio:\n",
      "                                      review/summary  \\\n",
      "0                           Book for nonbelievers...   \n",
      "1  Not so great in the first place, it is now wil...   \n",
      "2                                    Did you know...   \n",
      "3                                             Great!   \n",
      "4                       I don't believe she wrote it   \n",
      "\n",
      "                       clean_summary  \n",
      "0                   book nonbeliever  \n",
      "1  great first place wildly outdated  \n",
      "2                               know  \n",
      "3                              great  \n",
      "4                      believe wrote  \n",
      "\n",
      "✅ Dataset balanceado guardado como 'balanced_reviews.csv'\n"
     ]
    }
   ],
   "source": [
    "import pandas as pd\n",
    "import re\n",
    "import nltk\n",
    "from nltk.corpus import stopwords\n",
    "from nltk.stem import WordNetLemmatizer\n",
    "\n",
    "nltk.download('stopwords')\n",
    "nltk.download('wordnet')\n",
    "\n",
    "# Inicializar lematizador\n",
    "lemmatizer = WordNetLemmatizer()\n",
    "\n",
    "# Función para limpiar texto\n",
    "def clean_text(text):\n",
    "    text = re.sub('[^a-zA-Z]', ' ', str(text))\n",
    "    text = text.lower().split()\n",
    "    text = [lemmatizer.lemmatize(word) for word in text if word not in set(stopwords.words('english')) and len(word) > 2]\n",
    "    return ' '.join(text)\n",
    "\n",
    "# Cargar datos\n",
    "df = pd.read_csv(\"../data/merged_reviews.csv\")\n",
    "\n",
    "# Filtrar puntaje 3 y convertir a clasificación binaria\n",
    "df_binary = df[df[\"review/score\"] != 3].copy()\n",
    "df_binary[\"label\"] = df_binary[\"review/score\"].apply(lambda x: 1 if x > 3 else 0)\n",
    "\n",
    "# Verificar desbalance\n",
    "print(\"Distribución original:\")\n",
    "print(df_binary[\"label\"].value_counts())\n",
    "\n",
    "# Submuestreo para balancear\n",
    "positivos = df_binary[df_binary[\"label\"] == 1].sample(n=df_binary[\"label\"].value_counts()[0], random_state=42)\n",
    "negativos = df_binary[df_binary[\"label\"] == 0]\n",
    "balanced_df = pd.concat([positivos, negativos]).sample(frac=1, random_state=42).reset_index(drop=True)\n",
    "\n",
    "# Limpieza de texto\n",
    "balanced_df[\"clean_summary\"] = balanced_df[\"review/summary\"].apply(clean_text)\n",
    "\n",
    "# Verificar resultado\n",
    "print(\"\\nDistribución balanceada:\")\n",
    "print(balanced_df[\"label\"].value_counts())\n",
    "print(\"\\nEjemplo de resumen limpio:\")\n",
    "print(balanced_df[[\"review/summary\", \"clean_summary\"]].head())\n",
    "\n",
    "# Guardar dataset balanceado\n",
    "balanced_df.to_csv(\"../data/balanced_reviews.csv\", index=False)\n",
    "print(\"\\n✅ Dataset balanceado guardado como 'balanced_reviews.csv'\")\n"
   ]
  },
  {
   "cell_type": "markdown",
   "id": "82501555",
   "metadata": {},
   "source": [
    "## Train"
   ]
  },
  {
   "cell_type": "code",
   "execution_count": 8,
   "id": "1ce559dc",
   "metadata": {},
   "outputs": [
    {
     "name": "stdout",
     "output_type": "stream",
     "text": [
      "Index(['review/summary', 'review/score', 'label', 'clean_summary'], dtype='object')\n",
      "review/summary       0\n",
      "review/score         0\n",
      "label                0\n",
      "clean_summary     5057\n",
      "dtype: int64\n"
     ]
    }
   ],
   "source": [
    "df = pd.read_csv(\"../data/balanced_reviews.csv\")\n",
    "print(df.columns)\n",
    "# Corpus y etiquetas\n",
    "corpus = df[\"clean_summary\"].tolist()\n",
    "y = df[\"label\"].values\n",
    "\n",
    "print(df.isna().sum())"
   ]
  },
  {
   "cell_type": "markdown",
   "id": "346c0bc9",
   "metadata": {},
   "source": [
    "## Modelos compatibles con sparse"
   ]
  },
  {
   "cell_type": "code",
   "execution_count": 6,
   "id": "266059cf",
   "metadata": {},
   "outputs": [
    {
     "name": "stdout",
     "output_type": "stream",
     "text": [
      "                                      review/summary  review/score  label  \\\n",
      "0                           Book for nonbelievers...           5.0      1   \n",
      "1  Not so great in the first place, it is now wil...           2.0      0   \n",
      "2                                    Did you know...           5.0      1   \n",
      "3                                             Great!           5.0      1   \n",
      "4                       I don't believe she wrote it           1.0      0   \n",
      "5                          What Happened Angie Sage?           2.0      0   \n",
      "6  Interesting idea and well written, but conscie...           1.0      0   \n",
      "7                                 purely for fiction           2.0      0   \n",
      "8                          Entertainment at its best           5.0      1   \n",
      "9               Classic brilliance, plain and simple           5.0      1   \n",
      "\n",
      "                                       clean_summary  \n",
      "0                                   book nonbeliever  \n",
      "1                  great first place wildly outdated  \n",
      "2                                               know  \n",
      "3                                              great  \n",
      "4                                      believe wrote  \n",
      "5                                happened angie sage  \n",
      "6  interesting idea well written conscientious pa...  \n",
      "7                                     purely fiction  \n",
      "8                                 entertainment best  \n",
      "9                    classic brilliance plain simple  \n"
     ]
    }
   ],
   "source": [
    "import pandas as pd\n",
    "\n",
    "# Cargar dataset balanceado\n",
    "df = pd.read_csv(\"../data/balanced_reviews.csv\")\n",
    "print(df.head(10))\n"
   ]
  },
  {
   "cell_type": "code",
   "execution_count": 24,
   "id": "b0a0323e",
   "metadata": {},
   "outputs": [
    {
     "name": "stdout",
     "output_type": "stream",
     "text": [
      "Trainning Logistic Regression...\n",
      "Trainning SVM...\n",
      "\n",
      "=== Model Results ===\n",
      "                 Model  Accuracy        F1  Precision  Recall\n",
      "1                  SVM     0.715  0.715122   0.715280   0.715\n",
      "0  Logistic Regression     0.710  0.708466   0.709234   0.710\n",
      "Best Model: SVM\n"
     ]
    }
   ],
   "source": [
    "import pandas as pd\n",
    "import os\n",
    "import sys\n",
    "import joblib\n",
    "\n",
    "from sklearn.metrics import accuracy_score\n",
    "from sklearn.ensemble import RandomForestClassifier\n",
    "from sklearn.feature_extraction.text import CountVectorizer\n",
    "from sklearn.linear_model import LogisticRegression\n",
    "from sklearn.metrics import f1_score, precision_score, recall_score\n",
    "from sklearn.naive_bayes import GaussianNB\n",
    "from sklearn.neighbors import KNeighborsClassifier\n",
    "from sklearn.svm import SVC\n",
    "from sklearn.tree import DecisionTreeClassifier\n",
    "sys.path.append(os.path.abspath(os.path.join(os.getcwd(), '..', '..')))\n",
    "\n",
    "from machine_learning.scripts.data_prep import prepare_corpus\n",
    "from sklearn.model_selection import train_test_split\n",
    "from sklearn.feature_extraction.text import TfidfVectorizer\n",
    "\n",
    "\n",
    "#BASE_DIR = os.path.abspath(os.getcwd(), '..')\n",
    "#DATA_PATH = os.path.join(BASE_DIR, 'data', 'balanced_reviews.csv')\n",
    "\n",
    "# Load data\n",
    "#dataset = pd.read_csv(DATA_PATH)\n",
    "dataset = pd.read_csv(\"../data/balanced_reviews.csv\")\n",
    "dataset = dataset.dropna(subset=[\"clean_summary\"])\n",
    "dataset[\"clean_summary\"] = dataset[\"clean_summary\"].astype(str)\n",
    "\n",
    "# Reset indexes to avoid KeyError\n",
    "dataset = dataset.reset_index(drop=True)\n",
    "\n",
    "corpus = prepare_corpus(dataset, \"clean_summary\", limit=1000)\n",
    "labels = dataset[\"label\"].values[:len(corpus)]  # Asegura alineación\n",
    "\n",
    "# Vectorize (sparse input)\n",
    "vectorizer = TfidfVectorizer(max_features=3000)\n",
    "X = vectorizer.fit_transform(corpus)\n",
    "\n",
    "y = labels\n",
    "\n",
    "# Split\n",
    "X_train, X_test, y_train, y_test = train_test_split(X, y, test_size=0.2, random_state=0)\n",
    "\n",
    "# Define models\n",
    "# Only models compatible with sparse input:\n",
    "models = {\n",
    "    \"Logistic Regression\": LogisticRegression(class_weight='balanced', max_iter=1000),\n",
    "    \"SVM\": SVC(kernel='linear', class_weight='balanced', probability=True),\n",
    "}\n",
    "\n",
    "# Train & evaluate\n",
    "results = []\n",
    "trained_models = {}\n",
    "\n",
    "for name, model in models.items():\n",
    "    print(f\"Trainning {name}...\")\n",
    "    model.fit(X_train, y_train)\n",
    "    y_pred = model.predict(X_test)\n",
    "    acc = accuracy_score(y_test, y_pred)\n",
    "    f1 = f1_score(y_test, y_pred, average='weighted', zero_division=0)\n",
    "    precision = precision_score(y_test, y_pred, average='weighted', zero_division=0)\n",
    "    recall = recall_score(y_test, y_pred, average='weighted', zero_division=0)\n",
    "    results.append({\n",
    "        \"Model\": name,\n",
    "        \"Accuracy\": acc,\n",
    "        \"F1\": f1,\n",
    "        \"Precision\": precision,\n",
    "        \"Recall\": recall\n",
    "    })\n",
    "    trained_models[name] = model\n",
    "\n",
    "\n",
    "# Results DataFrame\n",
    "df_results = pd.DataFrame(results).sort_values(by='F1', ascending=False)\n",
    "print(\"\\n=== Model Results ===\")\n",
    "print(df_results)\n",
    "\n",
    "\n",
    "# Save best model and vectorizer\n",
    "best_model_name = df_results.iloc[0]['Model']\n",
    "best_model = trained_models[best_model_name]\n",
    "\n",
    "print(f\"Best Model: {best_model_name}\")\n"
   ]
  },
  {
   "cell_type": "code",
   "execution_count": null,
   "id": "2e6198b9",
   "metadata": {},
   "outputs": [
    {
     "name": "stdout",
     "output_type": "stream",
     "text": [
      "label\n",
      "1    351498\n",
      "0    348811\n",
      "Name: count, dtype: int64\n",
      "label\n",
      "1    0.501918\n",
      "0    0.498082\n",
      "Name: proportion, dtype: float64\n"
     ]
    }
   ],
   "source": [
    "print(dataset['label'].value_counts())\n",
    "print(dataset['label'].value_counts(normalize=True))  # proporciones"
   ]
  },
  {
   "cell_type": "code",
   "execution_count": null,
   "id": "5232fe5e",
   "metadata": {},
   "outputs": [
    {
     "name": "stdout",
     "output_type": "stream",
     "text": [
      "Cantidad total de muestras: 700309\n"
     ]
    }
   ],
   "source": [
    "print(\"Cantidad total de muestras:\", len(dataset))"
   ]
  },
  {
   "cell_type": "code",
   "execution_count": 27,
   "id": "9725e1bc",
   "metadata": {},
   "outputs": [
    {
     "data": {
      "image/png": "[encoded data removed]",
      "text/plain": [
       "<Figure size 640x480 with 1 Axes>"
      ]
     },
     "metadata": {},
     "output_type": "display_data"
    }
   ],
   "source": [
    "import seaborn as sns\n",
    "import matplotlib.pyplot as plt\n",
    "\n",
    "sns.countplot(x='label', data=dataset)\n",
    "plt.title(\"Distribución de clases (positiva vs negativa)\")\n",
    "plt.xticks([0,1], [\"Negativa (0)\", \"Positiva (1)\"])\n",
    "plt.show()"
   ]
  },
  {
   "cell_type": "code",
   "execution_count": 28,
   "id": "6b7aab69",
   "metadata": {},
   "outputs": [
    {
     "name": "stdout",
     "output_type": "stream",
     "text": [
      "Nulos por columna:\n",
      "review/summary    0\n",
      "review/score      0\n",
      "label             0\n",
      "clean_summary     0\n",
      "dtype: int64\n",
      "Duplicados: 227027\n"
     ]
    }
   ],
   "source": [
    "print(\"Nulos por columna:\")\n",
    "print(dataset.isnull().sum())\n",
    "\n",
    "print(\"Duplicados:\", dataset.duplicated().sum())\n"
   ]
  },
  {
   "cell_type": "code",
   "execution_count": 35,
   "id": "ccd393cb",
   "metadata": {},
   "outputs": [
    {
     "name": "stdout",
     "output_type": "stream",
     "text": [
      "Duplicados:                                 review/summary  review/score  label  \\\n",
      "2                              Did you know...           5.0      1   \n",
      "3                                       Great!           5.0      1   \n",
      "4                 I don't believe she wrote it           1.0      0   \n",
      "7                           purely for fiction           2.0      0   \n",
      "8                    Entertainment at its best           5.0      1   \n",
      "...                                        ...           ...    ...   \n",
      "700303  A sublimely boring and depressing book           1.0      0   \n",
      "700304            Says what needs to be said!!           4.0      1   \n",
      "700305                  road through kurdistan           2.0      0   \n",
      "700307  Depressing German bourgeois narcissism           2.0      0   \n",
      "700308       Walt Whitman is a Great Read!!!!!           5.0      1   \n",
      "\n",
      "                                 clean_summary  \n",
      "2                                         know  \n",
      "3                                        great  \n",
      "4                                believe wrote  \n",
      "7                               purely fiction  \n",
      "8                           entertainment best  \n",
      "...                                        ...  \n",
      "700303        sublimely boring depressing book  \n",
      "700304                           say need said  \n",
      "700305                          road kurdistan  \n",
      "700307  depressing german bourgeois narcissism  \n",
      "700308                 walt whitman great read  \n",
      "\n",
      "[390935 rows x 4 columns]\n"
     ]
    }
   ],
   "source": [
    "print(\"Duplicados:\", dataset[dataset.duplicated(subset=[\"clean_summary\"], keep=False)])"
   ]
  },
  {
   "cell_type": "code",
   "execution_count": 30,
   "id": "91f00a63",
   "metadata": {},
   "outputs": [],
   "source": [
    "min_count = min(dataset['label'].value_counts().values)\n",
    "balanced = pd.concat([\n",
    "    dataset[dataset['label'] == 0].sample(min_count, random_state=42),\n",
    "    dataset[dataset['label'] == 1].sample(min_count, random_state=42)\n",
    "])\n"
   ]
  }
 ],
 "metadata": {
  "kernelspec": {
   "display_name": "lit_music_app",
   "language": "python",
   "name": "python3"
  },
  "language_info": {
   "codemirror_mode": {
    "name": "ipython",
    "version": 3
   },
   "file_extension": ".py",
   "mimetype": "text/x-python",
   "name": "python",
   "nbconvert_exporter": "python",
   "pygments_lexer": "ipython3",
   "version": "3.13.2"
  }
 },
 "nbformat": 4,
 "nbformat_minor": 5
}
