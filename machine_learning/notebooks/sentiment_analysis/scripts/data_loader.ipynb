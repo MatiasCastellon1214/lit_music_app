{
 "cells": [
  {
   "cell_type": "markdown",
   "metadata": {},
   "source": [
    "# Data Loader"
   ]
  },
  {
   "cell_type": "markdown",
   "metadata": {},
   "source": [
    "## Import Libraries"
   ]
  },
  {
   "cell_type": "code",
   "execution_count": 1,
   "metadata": {},
   "outputs": [],
   "source": [
    "import pandas as pd"
   ]
  },
  {
   "cell_type": "markdown",
   "metadata": {},
   "source": [
    "## Load Dataset"
   ]
  },
  {
   "cell_type": "code",
   "execution_count": 10,
   "metadata": {},
   "outputs": [],
   "source": [
    "book_sentiment_path = pd.read_csv(\"../../../data/Books_rating.csv\")"
   ]
  },
  {
   "cell_type": "markdown",
   "metadata": {},
   "source": [
    "## Initial data loading and pre-processing"
   ]
  },
  {
   "cell_type": "code",
   "execution_count": 11,
   "metadata": {},
   "outputs": [],
   "source": [
    "def load_data(book_sentiment_path):\n",
    "\n",
    "    # Load the dataset and filter only necessary columns\n",
    "    book_sentiment = pd.read_csv(book_sentiment_path)\n",
    "    df = book_sentiment[[\"review/score\", \"review/text\"]].dropna()\n",
    "\n",
    "    # Option 1: Delete comments with score 3\n",
    "    df_binary = df[df[\"review/score\"] != 3].copy()\n",
    "    df_binary.loc[:, \"label\"] = df_binary[\"review/score\"].aplly(lambda x:1 if x > 3 else 0)\n",
    "\n",
    "    # Option 2: Classification into 3 classes\n",
    "    df_multi = df.copy()\n",
    "    df_multi.loc[:, \"label\"] = df[\"review/score\"].apply(lambda x: 2 if x > 3 else (1 if x == 3 else 0))   \n",
    "\n",
    "    return df_binary, df_multi\n"
   ]
  }
 ],
 "metadata": {
  "kernelspec": {
   "display_name": "lit_music_app",
   "language": "python",
   "name": "python3"
  },
  "language_info": {
   "codemirror_mode": {
    "name": "ipython",
    "version": 3
   },
   "file_extension": ".py",
   "mimetype": "text/x-python",
   "name": "python",
   "nbconvert_exporter": "python",
   "pygments_lexer": "ipython3",
   "version": "3.13.2"
  }
 },
 "nbformat": 4,
 "nbformat_minor": 2
}
